{
 "cells": [
  {
   "cell_type": "code",
   "execution_count": 1,
   "id": "d9732356",
   "metadata": {},
   "outputs": [
    {
     "name": "stdout",
     "output_type": "stream",
     "text": [
      "Requirement already satisfied: tensorflow-gpu==2.8.0 in c:\\users\\mk_reuben\\anaconda3\\lib\\site-packages (2.8.0)\n",
      "Requirement already satisfied: keras<2.9,>=2.8.0rc0 in c:\\users\\mk_reuben\\anaconda3\\lib\\site-packages (from tensorflow-gpu==2.8.0) (2.8.0)\n",
      "Requirement already satisfied: h5py>=2.9.0 in c:\\users\\mk_reuben\\anaconda3\\lib\\site-packages (from tensorflow-gpu==2.8.0) (3.2.1)\n",
      "Requirement already satisfied: protobuf>=3.9.2 in c:\\users\\mk_reuben\\anaconda3\\lib\\site-packages (from tensorflow-gpu==2.8.0) (3.19.3)\n",
      "Requirement already satisfied: gast>=0.2.1 in c:\\users\\mk_reuben\\anaconda3\\lib\\site-packages (from tensorflow-gpu==2.8.0) (0.5.3)\n",
      "Requirement already satisfied: astunparse>=1.6.0 in c:\\users\\mk_reuben\\anaconda3\\lib\\site-packages (from tensorflow-gpu==2.8.0) (1.6.3)\n",
      "Requirement already satisfied: tensorboard<2.9,>=2.8 in c:\\users\\mk_reuben\\anaconda3\\lib\\site-packages (from tensorflow-gpu==2.8.0) (2.8.0)\n",
      "Requirement already satisfied: tf-estimator-nightly==2.8.0.dev2021122109 in c:\\users\\mk_reuben\\anaconda3\\lib\\site-packages (from tensorflow-gpu==2.8.0) (2.8.0.dev2021122109)\n",
      "Requirement already satisfied: opt-einsum>=2.3.2 in c:\\users\\mk_reuben\\anaconda3\\lib\\site-packages (from tensorflow-gpu==2.8.0) (3.3.0)\n",
      "Requirement already satisfied: setuptools in c:\\users\\mk_reuben\\anaconda3\\lib\\site-packages (from tensorflow-gpu==2.8.0) (58.0.4)\n",
      "Requirement already satisfied: flatbuffers>=1.12 in c:\\users\\mk_reuben\\anaconda3\\lib\\site-packages (from tensorflow-gpu==2.8.0) (2.0)\n",
      "Requirement already satisfied: termcolor>=1.1.0 in c:\\users\\mk_reuben\\anaconda3\\lib\\site-packages (from tensorflow-gpu==2.8.0) (1.1.0)\n",
      "Requirement already satisfied: grpcio<2.0,>=1.24.3 in c:\\users\\mk_reuben\\anaconda3\\lib\\site-packages (from tensorflow-gpu==2.8.0) (1.43.0)\n",
      "Requirement already satisfied: absl-py>=0.4.0 in c:\\users\\mk_reuben\\anaconda3\\lib\\site-packages (from tensorflow-gpu==2.8.0) (1.0.0)\n",
      "Requirement already satisfied: libclang>=9.0.1 in c:\\users\\mk_reuben\\anaconda3\\lib\\site-packages (from tensorflow-gpu==2.8.0) (13.0.0)\n",
      "Requirement already satisfied: typing-extensions>=3.6.6 in c:\\users\\mk_reuben\\anaconda3\\lib\\site-packages (from tensorflow-gpu==2.8.0) (3.10.0.2)\n",
      "Requirement already satisfied: google-pasta>=0.1.1 in c:\\users\\mk_reuben\\anaconda3\\lib\\site-packages (from tensorflow-gpu==2.8.0) (0.2.0)\n",
      "Requirement already satisfied: numpy>=1.20 in c:\\users\\mk_reuben\\appdata\\roaming\\python\\python39\\site-packages (from tensorflow-gpu==2.8.0) (1.22.1)\n",
      "Requirement already satisfied: six>=1.12.0 in c:\\users\\mk_reuben\\anaconda3\\lib\\site-packages (from tensorflow-gpu==2.8.0) (1.16.0)\n",
      "Requirement already satisfied: keras-preprocessing>=1.1.1 in c:\\users\\mk_reuben\\anaconda3\\lib\\site-packages (from tensorflow-gpu==2.8.0) (1.1.2)\n",
      "Requirement already satisfied: tensorflow-io-gcs-filesystem>=0.23.1 in c:\\users\\mk_reuben\\anaconda3\\lib\\site-packages (from tensorflow-gpu==2.8.0) (0.24.0)\n",
      "Requirement already satisfied: wrapt>=1.11.0 in c:\\users\\mk_reuben\\anaconda3\\lib\\site-packages (from tensorflow-gpu==2.8.0) (1.12.1)\n",
      "Requirement already satisfied: wheel<1.0,>=0.23.0 in c:\\users\\mk_reuben\\anaconda3\\lib\\site-packages (from astunparse>=1.6.0->tensorflow-gpu==2.8.0) (0.37.0)\n",
      "Requirement already satisfied: google-auth-oauthlib<0.5,>=0.4.1 in c:\\users\\mk_reuben\\anaconda3\\lib\\site-packages (from tensorboard<2.9,>=2.8->tensorflow-gpu==2.8.0) (0.4.6)\n",
      "Requirement already satisfied: tensorboard-data-server<0.7.0,>=0.6.0 in c:\\users\\mk_reuben\\anaconda3\\lib\\site-packages (from tensorboard<2.9,>=2.8->tensorflow-gpu==2.8.0) (0.6.1)\n",
      "Requirement already satisfied: google-auth<3,>=1.6.3 in c:\\users\\mk_reuben\\anaconda3\\lib\\site-packages (from tensorboard<2.9,>=2.8->tensorflow-gpu==2.8.0) (2.5.0)\n",
      "Requirement already satisfied: requests<3,>=2.21.0 in c:\\users\\mk_reuben\\anaconda3\\lib\\site-packages (from tensorboard<2.9,>=2.8->tensorflow-gpu==2.8.0) (2.26.0)\n",
      "Requirement already satisfied: werkzeug>=0.11.15 in c:\\users\\mk_reuben\\anaconda3\\lib\\site-packages (from tensorboard<2.9,>=2.8->tensorflow-gpu==2.8.0) (2.0.2)\n",
      "Requirement already satisfied: markdown>=2.6.8 in c:\\users\\mk_reuben\\anaconda3\\lib\\site-packages (from tensorboard<2.9,>=2.8->tensorflow-gpu==2.8.0) (3.3.6)\n",
      "Requirement already satisfied: tensorboard-plugin-wit>=1.6.0 in c:\\users\\mk_reuben\\anaconda3\\lib\\site-packages (from tensorboard<2.9,>=2.8->tensorflow-gpu==2.8.0) (1.8.1)\n",
      "Requirement already satisfied: pyasn1-modules>=0.2.1 in c:\\users\\mk_reuben\\anaconda3\\lib\\site-packages (from google-auth<3,>=1.6.3->tensorboard<2.9,>=2.8->tensorflow-gpu==2.8.0) (0.2.8)\n",
      "Requirement already satisfied: rsa<5,>=3.1.4 in c:\\users\\mk_reuben\\anaconda3\\lib\\site-packages (from google-auth<3,>=1.6.3->tensorboard<2.9,>=2.8->tensorflow-gpu==2.8.0) (4.8)\n",
      "Requirement already satisfied: cachetools<6.0,>=2.0.0 in c:\\users\\mk_reuben\\anaconda3\\lib\\site-packages (from google-auth<3,>=1.6.3->tensorboard<2.9,>=2.8->tensorflow-gpu==2.8.0) (5.0.0)\n",
      "Requirement already satisfied: requests-oauthlib>=0.7.0 in c:\\users\\mk_reuben\\anaconda3\\lib\\site-packages (from google-auth-oauthlib<0.5,>=0.4.1->tensorboard<2.9,>=2.8->tensorflow-gpu==2.8.0) (1.3.0)\n",
      "Requirement already satisfied: importlib-metadata>=4.4 in c:\\users\\mk_reuben\\anaconda3\\lib\\site-packages (from markdown>=2.6.8->tensorboard<2.9,>=2.8->tensorflow-gpu==2.8.0) (4.8.1)\n",
      "Requirement already satisfied: idna<4,>=2.5 in c:\\users\\mk_reuben\\anaconda3\\lib\\site-packages (from requests<3,>=2.21.0->tensorboard<2.9,>=2.8->tensorflow-gpu==2.8.0) (3.2)\n",
      "Requirement already satisfied: certifi>=2017.4.17 in c:\\users\\mk_reuben\\anaconda3\\lib\\site-packages (from requests<3,>=2.21.0->tensorboard<2.9,>=2.8->tensorflow-gpu==2.8.0) (2021.10.8)\n",
      "Requirement already satisfied: urllib3<1.27,>=1.21.1 in c:\\users\\mk_reuben\\anaconda3\\lib\\site-packages (from requests<3,>=2.21.0->tensorboard<2.9,>=2.8->tensorflow-gpu==2.8.0) (1.26.7)\n",
      "Requirement already satisfied: charset-normalizer~=2.0.0 in c:\\users\\mk_reuben\\anaconda3\\lib\\site-packages (from requests<3,>=2.21.0->tensorboard<2.9,>=2.8->tensorflow-gpu==2.8.0) (2.0.4)\n",
      "Requirement already satisfied: zipp>=0.5 in c:\\users\\mk_reuben\\anaconda3\\lib\\site-packages (from importlib-metadata>=4.4->markdown>=2.6.8->tensorboard<2.9,>=2.8->tensorflow-gpu==2.8.0) (3.6.0)\n",
      "Requirement already satisfied: pyasn1<0.5.0,>=0.4.6 in c:\\users\\mk_reuben\\anaconda3\\lib\\site-packages (from pyasn1-modules>=0.2.1->google-auth<3,>=1.6.3->tensorboard<2.9,>=2.8->tensorflow-gpu==2.8.0) (0.4.8)\n",
      "Requirement already satisfied: oauthlib>=3.0.0 in c:\\users\\mk_reuben\\anaconda3\\lib\\site-packages (from requests-oauthlib>=0.7.0->google-auth-oauthlib<0.5,>=0.4.1->tensorboard<2.9,>=2.8->tensorflow-gpu==2.8.0) (3.1.1)\n"
     ]
    }
   ],
   "source": [
    "!pip install tensorflow-gpu==2.8.0"
   ]
  },
  {
   "cell_type": "code",
   "execution_count": 2,
   "id": "ad38a0dc",
   "metadata": {},
   "outputs": [],
   "source": [
    "import helper\n",
    "import numpy as np\n",
    "\n",
    "from keras.preprocessing.text import Tokenizer\n",
    "from keras.preprocessing.sequence import pad_sequences\n",
    "from keras.models import Model, Sequential\n",
    "from keras.layers import GRU, Input, Dense, TimeDistributed, Activation, RepeatVector, Bidirectional, Dropout, LSTM\n",
    "from keras.layers.embeddings import Embedding\n",
    "from tensorflow.keras.optimizers import Adam\n",
    "from keras.losses import sparse_categorical_crossentropy"
   ]
  },
  {
   "cell_type": "code",
   "execution_count": 5,
   "id": "db47bf8c",
   "metadata": {},
   "outputs": [],
   "source": [
    "import tensorflow as tf"
   ]
  },
  {
   "cell_type": "code",
   "execution_count": 6,
   "id": "7d4ad738",
   "metadata": {},
   "outputs": [],
   "source": [
    "english_path='https://raw.githubusercontent.com/projjal1/datasets/master/small_vocab_en.txt'\n",
    "french_path='https://raw.githubusercontent.com/projjal1/datasets/master/small_vocab_fr.txt'"
   ]
  },
  {
   "cell_type": "code",
   "execution_count": 7,
   "id": "2a4d2948",
   "metadata": {},
   "outputs": [],
   "source": [
    "import os\n",
    "\n",
    "def load_data(path):\n",
    "  input_file = os.path.join(path)\n",
    "  with open(input_file, \"r\") as f:\n",
    "    data = f.read()\n",
    "\n",
    "  return data.split('\\n')"
   ]
  },
  {
   "cell_type": "code",
   "execution_count": 9,
   "id": "36bf08d0",
   "metadata": {},
   "outputs": [],
   "source": [
    "english_data=tf.keras.utils.get_file('file1',english_path)\n",
    "french_data=tf.keras.utils.get_file('file2',french_path)"
   ]
  },
  {
   "cell_type": "code",
   "execution_count": 11,
   "id": "62f01f2e",
   "metadata": {},
   "outputs": [],
   "source": [
    "english_sentences=load_data(english_data)\n",
    "french_sentences=load_data(french_data)"
   ]
  },
  {
   "cell_type": "code",
   "execution_count": 12,
   "id": "58c63da4",
   "metadata": {},
   "outputs": [
    {
     "name": "stdout",
     "output_type": "stream",
     "text": [
      "Sample : 0\n",
      "new jersey is sometimes quiet during autumn , and it is snowy in april .\n",
      "new jersey est parfois calme pendant l' automne , et il est neigeux en avril .\n",
      "--------------------------------------------------\n",
      "Sample : 1\n",
      "the united states is usually chilly during july , and it is usually freezing in november .\n",
      "les Ã©tats-unis est gÃ©nÃ©ralement froid en juillet , et il gÃ¨le habituellement en novembre .\n",
      "--------------------------------------------------\n",
      "Sample : 2\n",
      "california is usually quiet during march , and it is usually hot in june .\n",
      "california est gÃ©nÃ©ralement calme en mars , et il est gÃ©nÃ©ralement chaud en juin .\n",
      "--------------------------------------------------\n",
      "Sample : 3\n",
      "the united states is sometimes mild during june , and it is cold in september .\n",
      "les Ã©tats-unis est parfois lÃ©gÃ¨re en juin , et il fait froid en septembre .\n",
      "--------------------------------------------------\n",
      "Sample : 4\n",
      "your least liked fruit is the grape , but my least liked is the apple .\n",
      "votre moins aimÃ© fruit est le raisin , mais mon moins aimÃ© est la pomme .\n",
      "--------------------------------------------------\n"
     ]
    }
   ],
   "source": [
    "for i in range(5):\n",
    "  print('Sample :',i)\n",
    "  print(english_sentences[i])\n",
    "  print(french_sentences[i])\n",
    "  print('-'*50)"
   ]
  },
  {
   "cell_type": "code",
   "execution_count": 13,
   "id": "f08108fa",
   "metadata": {},
   "outputs": [],
   "source": [
    "import collections"
   ]
  },
  {
   "cell_type": "code",
   "execution_count": 14,
   "id": "910eda8d",
   "metadata": {},
   "outputs": [
    {
     "name": "stdout",
     "output_type": "stream",
     "text": [
      "English Vocab: 227\n",
      "French Vocab: 355\n"
     ]
    }
   ],
   "source": [
    "english_words_counter = collections.Counter([word for sentence in english_sentences for word in sentence.split()])\n",
    "french_words_counter = collections.Counter([word for sentence in french_sentences for word in sentence.split()])\n",
    "\n",
    "print('English Vocab:',len(english_words_counter))\n",
    "print('French Vocab:',len(french_words_counter))"
   ]
  },
  {
   "cell_type": "code",
   "execution_count": 15,
   "id": "1eb5b07f",
   "metadata": {},
   "outputs": [],
   "source": [
    "def tokenize(x):\n",
    "  tokenizer = Tokenizer()\n",
    "  tokenizer.fit_on_texts(x)\n",
    "  return tokenizer.texts_to_sequences(x), tokenizer"
   ]
  },
  {
   "cell_type": "code",
   "execution_count": 16,
   "id": "a5c332ae",
   "metadata": {},
   "outputs": [
    {
     "name": "stdout",
     "output_type": "stream",
     "text": [
      "{'the': 1, 'quick': 2, 'a': 3, 'brown': 4, 'fox': 5, 'jumps': 6, 'over': 7, 'lazy': 8, 'dog': 9, 'by': 10, 'jove': 11, 'my': 12, 'study': 13, 'of': 14, 'lexicography': 15, 'won': 16, 'prize': 17, 'this': 18, 'is': 19, 'short': 20, 'sentence': 21}\n",
      "\n",
      "Sequence 1 in x\n",
      "  Input:  The quick brown fox jumps over the lazy dog .\n",
      "  Output: [1, 2, 4, 5, 6, 7, 1, 8, 9]\n",
      "Sequence 2 in x\n",
      "  Input:  By Jove , my quick study of lexicography won a prize .\n",
      "  Output: [10, 11, 12, 2, 13, 14, 15, 16, 3, 17]\n",
      "Sequence 3 in x\n",
      "  Input:  This is a short sentence .\n",
      "  Output: [18, 19, 3, 20, 21]\n"
     ]
    }
   ],
   "source": [
    "text_sentences = [\n",
    "    'The quick brown fox jumps over the lazy dog .',\n",
    "    'By Jove , my quick study of lexicography won a prize .',\n",
    "    'This is a short sentence .']\n",
    "\n",
    "text_tokenized, text_tokenizer = tokenize(text_sentences)\n",
    "print(text_tokenizer.word_index)\n",
    "print()\n",
    "\n",
    "for sample_i, (sent, token_sent) in enumerate(zip(text_sentences, text_tokenized)):\n",
    "  print('Sequence {} in x'.format(sample_i + 1))\n",
    "  print('  Input:  {}'.format(sent))\n",
    "  print('  Output: {}'.format(token_sent))"
   ]
  },
  {
   "cell_type": "code",
   "execution_count": 17,
   "id": "dc97e1a6",
   "metadata": {},
   "outputs": [],
   "source": [
    "def pad(x, length=None):\n",
    "  return pad_sequences(x, maxlen=length, padding='post')"
   ]
  },
  {
   "cell_type": "code",
   "execution_count": 18,
   "id": "30f0acf8",
   "metadata": {},
   "outputs": [
    {
     "name": "stdout",
     "output_type": "stream",
     "text": [
      "Data Preprocessed\n",
      "Max English sentence length: 15\n",
      "Max French sentence length: 21\n",
      "English vocabulary size: 199\n",
      "French vocabulary size: 345\n"
     ]
    }
   ],
   "source": [
    "def preprocess(x, y):\n",
    "    \"\"\"\n",
    "    Preprocess x and y\n",
    "    :param x: Feature List of sentences\n",
    "    :param y: Label List of sentences\n",
    "    :return: Tuple of (Preprocessed x, Preprocessed y, x tokenizer, y tokenizer)\n",
    "    \"\"\"\n",
    "    preprocess_x, x_tk = tokenize(x)\n",
    "    preprocess_y, y_tk = tokenize(y)\n",
    "\n",
    "    preprocess_x = pad(preprocess_x)\n",
    "    preprocess_y = pad(preprocess_y)\n",
    "\n",
    "    # Keras's sparse_categorical_crossentropy function requires the labels to be in 3 dimensions\n",
    "    #Expanding dimensions\n",
    "    preprocess_y = preprocess_y.reshape(*preprocess_y.shape, 1)\n",
    "\n",
    "    return preprocess_x, preprocess_y, x_tk, y_tk\n",
    "\n",
    "preproc_english_sentences, preproc_french_sentences, english_tokenizer, french_tokenizer =\\\n",
    "    preprocess(english_sentences, french_sentences)\n",
    "    \n",
    "max_english_sequence_length = preproc_english_sentences.shape[1]\n",
    "max_french_sequence_length = preproc_french_sentences.shape[1]\n",
    "english_vocab_size = len(english_tokenizer.word_index)\n",
    "french_vocab_size = len(french_tokenizer.word_index)\n",
    "\n",
    "print('Data Preprocessed')\n",
    "print(\"Max English sentence length:\", max_english_sequence_length)\n",
    "print(\"Max French sentence length:\", max_french_sequence_length)\n",
    "print(\"English vocabulary size:\", english_vocab_size)\n",
    "print(\"French vocabulary size:\", french_vocab_size)"
   ]
  },
  {
   "cell_type": "code",
   "execution_count": 43,
   "id": "f89b8808",
   "metadata": {},
   "outputs": [],
   "source": [
    "def logits_to_text(logits, tokenizer):\n",
    "  index_to_words = {id: word for word, id in tokenizer.word_index.items()}\n",
    "  index_to_words[0] = '<PAD>'\n",
    "\n",
    "  return ' '.join([index_to_words[prediction] for prediction in np.argmax(logits, 1)])"
   ]
  },
  {
   "cell_type": "code",
   "execution_count": 22,
   "id": "79d3c503",
   "metadata": {},
   "outputs": [],
   "source": [
    "def embed_model(input_shape, output_sequence_length, english_vocab_size, french_vocab_size):\n",
    "    \"\"\"\n",
    "    Build and train a RNN model using word embedding on x and y\n",
    "    :param input_shape: Tuple of input shape\n",
    "    :param output_sequence_length: Length of output sequence\n",
    "    :param english_vocab_size: Number of unique English words in the dataset\n",
    "    :param french_vocab_size: Number of unique French words in the dataset\n",
    "    :return: Keras model built, but not trained\n",
    "    \"\"\"\n",
    "    # TODO: Implement\n",
    "\n",
    "    # Hyperparameters\n",
    "    learning_rate = 0.005\n",
    "    \n",
    "    # TODO: Build the layers\n",
    "    model = Sequential()\n",
    "    model.add(Embedding(english_vocab_size, 256, input_length=input_shape[1], input_shape=input_shape[1:]))\n",
    "    model.add(GRU(256, return_sequences=True))    \n",
    "    model.add(TimeDistributed(Dense(1024, activation='relu')))\n",
    "    model.add(Dropout(0.5))\n",
    "    model.add(TimeDistributed(Dense(french_vocab_size, activation='softmax'))) \n",
    "\n",
    "    # Compile model\n",
    "    model.compile(loss=sparse_categorical_crossentropy,\n",
    "                  optimizer=Adam(learning_rate),\n",
    "                  metrics=['accuracy'])\n",
    "    return model"
   ]
  },
  {
   "cell_type": "code",
   "execution_count": 23,
   "id": "f7150a61",
   "metadata": {},
   "outputs": [],
   "source": [
    "tmp_x = pad(preproc_english_sentences, preproc_french_sentences.shape[1])\n",
    "tmp_x = tmp_x.reshape((-1, preproc_french_sentences.shape[-2]))"
   ]
  },
  {
   "cell_type": "code",
   "execution_count": 24,
   "id": "79f68528",
   "metadata": {},
   "outputs": [],
   "source": [
    "simple_rnn_model = embed_model(\n",
    "    tmp_x.shape,\n",
    "    preproc_french_sentences.shape[1],\n",
    "    len(english_tokenizer.word_index)+1,\n",
    "    len(french_tokenizer.word_index)+1)"
   ]
  },
  {
   "cell_type": "code",
   "execution_count": 25,
   "id": "3b6f2446",
   "metadata": {},
   "outputs": [
    {
     "name": "stdout",
     "output_type": "stream",
     "text": [
      "Model: \"sequential\"\n",
      "_________________________________________________________________\n",
      " Layer (type)                Output Shape              Param #   \n",
      "=================================================================\n",
      " embedding (Embedding)       (None, 21, 256)           51200     \n",
      "                                                                 \n",
      " gru (GRU)                   (None, 21, 256)           394752    \n",
      "                                                                 \n",
      " time_distributed (TimeDistr  (None, 21, 1024)         263168    \n",
      " ibuted)                                                         \n",
      "                                                                 \n",
      " dropout (Dropout)           (None, 21, 1024)          0         \n",
      "                                                                 \n",
      " time_distributed_1 (TimeDis  (None, 21, 346)          354650    \n",
      " tributed)                                                       \n",
      "                                                                 \n",
      "=================================================================\n",
      "Total params: 1,063,770\n",
      "Trainable params: 1,063,770\n",
      "Non-trainable params: 0\n",
      "_________________________________________________________________\n"
     ]
    }
   ],
   "source": [
    "simple_rnn_model.summary()"
   ]
  },
  {
   "cell_type": "code",
   "execution_count": 26,
   "id": "a02ea97c",
   "metadata": {},
   "outputs": [
    {
     "name": "stdout",
     "output_type": "stream",
     "text": [
      "Epoch 1/20\n",
      "108/108 [==============================] - 404s 4s/step - loss: 1.3451 - accuracy: 0.6822 - val_loss: 0.4837 - val_accuracy: 0.8412\n",
      "Epoch 2/20\n",
      "108/108 [==============================] - 435s 4s/step - loss: 0.3972 - accuracy: 0.8695 - val_loss: 0.2903 - val_accuracy: 0.9020\n",
      "Epoch 3/20\n",
      "108/108 [==============================] - 434s 4s/step - loss: 0.2826 - accuracy: 0.9055 - val_loss: 0.2391 - val_accuracy: 0.9184\n",
      "Epoch 4/20\n",
      "108/108 [==============================] - 447s 4s/step - loss: 0.2393 - accuracy: 0.9187 - val_loss: 0.2147 - val_accuracy: 0.9259\n",
      "Epoch 5/20\n",
      "108/108 [==============================] - 466s 4s/step - loss: 0.2158 - accuracy: 0.9256 - val_loss: 0.2055 - val_accuracy: 0.9279\n",
      "Epoch 6/20\n",
      "108/108 [==============================] - 461s 4s/step - loss: 0.2043 - accuracy: 0.9290 - val_loss: 0.1976 - val_accuracy: 0.9312\n",
      "Epoch 7/20\n",
      "108/108 [==============================] - 449s 4s/step - loss: 0.1943 - accuracy: 0.9318 - val_loss: 0.1880 - val_accuracy: 0.9329\n",
      "Epoch 8/20\n",
      "108/108 [==============================] - 456s 4s/step - loss: 0.1872 - accuracy: 0.9338 - val_loss: 0.1862 - val_accuracy: 0.9353\n",
      "Epoch 9/20\n",
      "108/108 [==============================] - 450s 4s/step - loss: 0.1825 - accuracy: 0.9350 - val_loss: 0.1813 - val_accuracy: 0.9365\n",
      "Epoch 10/20\n",
      "108/108 [==============================] - 454s 4s/step - loss: 0.1776 - accuracy: 0.9363 - val_loss: 0.1830 - val_accuracy: 0.9360\n",
      "Epoch 11/20\n",
      "108/108 [==============================] - 451s 4s/step - loss: 0.1755 - accuracy: 0.9367 - val_loss: 0.1778 - val_accuracy: 0.9373\n",
      "Epoch 12/20\n",
      "108/108 [==============================] - 457s 4s/step - loss: 0.1712 - accuracy: 0.9380 - val_loss: 0.1786 - val_accuracy: 0.9374\n",
      "Epoch 13/20\n",
      "108/108 [==============================] - 452s 4s/step - loss: 0.1692 - accuracy: 0.9383 - val_loss: 0.1803 - val_accuracy: 0.9373\n",
      "Epoch 14/20\n",
      "108/108 [==============================] - 462s 4s/step - loss: 0.1703 - accuracy: 0.9379 - val_loss: 0.1767 - val_accuracy: 0.9380\n",
      "Epoch 15/20\n",
      "108/108 [==============================] - 450s 4s/step - loss: 0.1692 - accuracy: 0.9382 - val_loss: 0.1883 - val_accuracy: 0.9352\n",
      "Epoch 16/20\n",
      "108/108 [==============================] - 459s 4s/step - loss: 0.1702 - accuracy: 0.9381 - val_loss: 0.1776 - val_accuracy: 0.9382\n",
      "Epoch 17/20\n",
      "108/108 [==============================] - 452s 4s/step - loss: 0.1652 - accuracy: 0.9395 - val_loss: 0.1794 - val_accuracy: 0.9377\n",
      "Epoch 18/20\n",
      "108/108 [==============================] - 459s 4s/step - loss: 0.1646 - accuracy: 0.9395 - val_loss: 0.1798 - val_accuracy: 0.9376\n",
      "Epoch 19/20\n",
      "108/108 [==============================] - 440s 4s/step - loss: 0.1640 - accuracy: 0.9397 - val_loss: 0.1781 - val_accuracy: 0.9377\n",
      "Epoch 20/20\n",
      "108/108 [==============================] - 455s 4s/step - loss: 0.1645 - accuracy: 0.9397 - val_loss: 0.1803 - val_accuracy: 0.9379\n"
     ]
    }
   ],
   "source": [
    "history=simple_rnn_model.fit(tmp_x, preproc_french_sentences, batch_size=1024, epochs=20, validation_split=0.2)"
   ]
  },
  {
   "cell_type": "code",
   "execution_count": null,
   "id": "0744f78a",
   "metadata": {},
   "outputs": [],
   "source": [
    "simple_rnn_model.save('model.h5')"
   ]
  },
  {
   "cell_type": "code",
   "execution_count": 39,
   "id": "803e9b83",
   "metadata": {},
   "outputs": [],
   "source": [
    "def final_predictions(text):\n",
    "  y_id_to_word = {value: key for key, value in french_tokenizer.word_index.items()}\n",
    "  y_id_to_word[0] = '<PAD>'\n",
    "\n",
    "  sentence = [english_tokenizer.word_index[word] for word in text.split()]\n",
    "  sentence = pad_sequences([sentence], maxlen=preproc_french_sentences.shape[-2], padding='post')\n",
    "  \n",
    "  print(sentence.shape)\n",
    "  print(logits_to_text(simple_rnn_model.predict(sentence[:1])[0], french_tokenizer))"
   ]
  },
  {
   "cell_type": "code",
   "execution_count": 34,
   "id": "93b0eee3",
   "metadata": {},
   "outputs": [],
   "source": [
    "import re"
   ]
  },
  {
   "cell_type": "code",
   "execution_count": 42,
   "id": "11d4a01b",
   "metadata": {},
   "outputs": [
    {
     "name": "stdout",
     "output_type": "stream",
     "text": [
      "california is cold during july , but it is never dry in summer\n",
      "(1, 21)\n",
      "californie est froid en juillet mais il est jamais ã  en <PAD> <PAD> <PAD> <PAD> <PAD> <PAD> <PAD> <PAD> <PAD> <PAD>\n"
     ]
    }
   ],
   "source": [
    "txt=input().lower()\n",
    "final_predictions(re.sub(r'[^\\w]', ' ', txt))"
   ]
  },
  {
   "cell_type": "code",
   "execution_count": null,
   "id": "31301ab3",
   "metadata": {},
   "outputs": [],
   "source": []
  }
 ],
 "metadata": {
  "kernelspec": {
   "display_name": "Python 3 (ipykernel)",
   "language": "python",
   "name": "python3"
  },
  "language_info": {
   "codemirror_mode": {
    "name": "ipython",
    "version": 3
   },
   "file_extension": ".py",
   "mimetype": "text/x-python",
   "name": "python",
   "nbconvert_exporter": "python",
   "pygments_lexer": "ipython3",
   "version": "3.9.7"
  }
 },
 "nbformat": 4,
 "nbformat_minor": 5
}
